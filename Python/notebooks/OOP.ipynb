{
 "cells": [
  {
   "cell_type": "code",
   "execution_count": 127,
   "id": "outstanding-absolute",
   "metadata": {},
   "outputs": [],
   "source": [
    "class Employee:\n",
    "    raise_amount = 1.04\n",
    "    num_of_emp = 0\n",
    "    \n",
    "    def __init__(self, first, last, pay):\n",
    "        self.first = first\n",
    "        self.last = last\n",
    "        self.pay = pay\n",
    "        self.email = '{}.{}@company.com'.format(self.first,self.last)\n",
    "        Employee.num_of_emp += 1\n",
    "        \n",
    "    def fullname(self):\n",
    "        return \"{} {}\".format(self.first, self.last)\n",
    "    \n",
    "    \n",
    "    def pay_raise(self):\n",
    "        return self.pay * Employee.raise_amount\n",
    "    \n",
    "    @classmethod\n",
    "    def set_raise_amount(cls, amount):\n",
    "        cls.raise_amount = amount\n",
    "    \n",
    "    @classmethod\n",
    "    def from_string(cls, emp_str, deliminator = '-'):\n",
    "        first,last, pay = emp_str.split(deliminator)\n",
    "        return cls(first,last, pay)\n",
    "    \n",
    "    @staticmethod\n",
    "    def is_workay(day):\n",
    "        if day.weekday() == 5 or  day.weekday() == 6:\n",
    "            return False\n",
    "        return True\n",
    "    \n",
    "    def __repr__(self):\n",
    "        return \"Employee ({},{} {})\".format(self.first, self.last, self.pay)"
   ]
  },
  {
   "cell_type": "code",
   "execution_count": 128,
   "id": "empirical-envelope",
   "metadata": {},
   "outputs": [],
   "source": [
    "emp1 = Employee('Test','User', 5000)"
   ]
  },
  {
   "cell_type": "code",
   "execution_count": 129,
   "id": "amateur-google",
   "metadata": {},
   "outputs": [
    {
     "data": {
      "text/plain": [
       "'Test User'"
      ]
     },
     "execution_count": 129,
     "metadata": {},
     "output_type": "execute_result"
    }
   ],
   "source": [
    "emp1.fullname()"
   ]
  },
  {
   "cell_type": "code",
   "execution_count": 130,
   "id": "driving-worst",
   "metadata": {},
   "outputs": [
    {
     "data": {
      "text/plain": [
       "5200.0"
      ]
     },
     "execution_count": 130,
     "metadata": {},
     "output_type": "execute_result"
    }
   ],
   "source": [
    "emp1.pay_raise()"
   ]
  },
  {
   "cell_type": "code",
   "execution_count": 131,
   "id": "intimate-proceeding",
   "metadata": {},
   "outputs": [
    {
     "data": {
      "text/plain": [
       "mappingproxy({'__module__': '__main__',\n",
       "              'raise_amount': 1.04,\n",
       "              'num_of_emp': 1,\n",
       "              '__init__': <function __main__.Employee.__init__(self, first, last, pay)>,\n",
       "              'fullname': <function __main__.Employee.fullname(self)>,\n",
       "              'pay_raise': <function __main__.Employee.pay_raise(self)>,\n",
       "              'set_raise_amount': <classmethod at 0x7f02e33745e0>,\n",
       "              'from_string': <classmethod at 0x7f02e3374ca0>,\n",
       "              'is_workay': <staticmethod at 0x7f02e33740d0>,\n",
       "              '__repr__': <function __main__.Employee.__repr__(self)>,\n",
       "              '__dict__': <attribute '__dict__' of 'Employee' objects>,\n",
       "              '__weakref__': <attribute '__weakref__' of 'Employee' objects>,\n",
       "              '__doc__': None})"
      ]
     },
     "execution_count": 131,
     "metadata": {},
     "output_type": "execute_result"
    }
   ],
   "source": [
    "Employee.__dict__"
   ]
  },
  {
   "cell_type": "code",
   "execution_count": 132,
   "id": "smaller-franchise",
   "metadata": {},
   "outputs": [
    {
     "data": {
      "text/plain": [
       "{'first': 'Test',\n",
       " 'last': 'User',\n",
       " 'pay': 5000,\n",
       " 'email': 'Test.User@company.com',\n",
       " 'raise_amount': 1.1}"
      ]
     },
     "execution_count": 132,
     "metadata": {},
     "output_type": "execute_result"
    }
   ],
   "source": [
    "emp1.raise_amount = 1.10\n",
    "emp1.__dict__"
   ]
  },
  {
   "cell_type": "code",
   "execution_count": 133,
   "id": "quick-committee",
   "metadata": {},
   "outputs": [
    {
     "data": {
      "text/plain": [
       "1.1"
      ]
     },
     "execution_count": 133,
     "metadata": {},
     "output_type": "execute_result"
    }
   ],
   "source": [
    "emp1.set_raise_amount(1.15)\n",
    "emp1.raise_amount"
   ]
  },
  {
   "cell_type": "code",
   "execution_count": 134,
   "id": "brazilian-basketball",
   "metadata": {},
   "outputs": [
    {
     "data": {
      "text/plain": [
       "'Joe.Bidden@company.com'"
      ]
     },
     "execution_count": 134,
     "metadata": {},
     "output_type": "execute_result"
    }
   ],
   "source": [
    "emp_str1 = 'Joe-Bidden-2000'\n",
    "emp_str1 = Employee.from_string(emp_str1)\n",
    "emp_str1.email"
   ]
  },
  {
   "cell_type": "code",
   "execution_count": 135,
   "id": "statistical-terrorist",
   "metadata": {},
   "outputs": [
    {
     "data": {
      "text/plain": [
       "False"
      ]
     },
     "execution_count": 135,
     "metadata": {},
     "output_type": "execute_result"
    }
   ],
   "source": [
    "from datetime import date\n",
    "day = date(2021, 3, 28)\n",
    "Employee.is_workay(day)"
   ]
  },
  {
   "cell_type": "code",
   "execution_count": 158,
   "id": "incident-bristol",
   "metadata": {},
   "outputs": [],
   "source": [
    "# inheritence\n",
    "\n",
    "class Developer(Employee):\n",
    "    raise_amount = 1.10\n",
    "    \n",
    "    def __init__(self, first, last, pay, prog_lang):\n",
    "        super().__init__(first, last, pay)\n",
    "        self.prog_lang = prog_lang\n",
    "        \n",
    "        \n",
    "class Manager(Employee):\n",
    "    raise_amount = 1.10\n",
    "    \n",
    "    def __init__(self, first, last, pay, employees = None):\n",
    "        super().__init__(first, last, pay)\n",
    "        if employees is None:\n",
    "            self.employees = []\n",
    "        else:\n",
    "            self.employees = employees\n",
    "    \n",
    "    def add_employee(self, emp):\n",
    "        if emp not in self.employees:\n",
    "            self.employees.append(emp)\n",
    "            \n",
    "    def remove_emp(self, emp):\n",
    "        if emp in self.employees:\n",
    "            self.employees.remove(emp)\n",
    "            \n",
    "    def print_emp(self):\n",
    "        for emp in self.employees:\n",
    "            print('-->', emp.fullname())\n",
    "            \n",
    "    def __repr__(self):\n",
    "        return \"Manager ({},{} ,{}, {})\".format(self.first, self.last, self.pay,self.employees)\n",
    "    \n",
    "    def __str__(self):\n",
    "        return '{}-{}'.format(self.fullname(),self.email)\n",
    "    \n",
    "    def __add__(self, other):\n",
    "        return self.pay + other.pay\n",
    "    \n",
    "    def __len__(self):\n",
    "        return len(self.fullname())"
   ]
  },
  {
   "cell_type": "code",
   "execution_count": 159,
   "id": "touched-voice",
   "metadata": {},
   "outputs": [
    {
     "data": {
      "text/plain": [
       "('Narendra.Modi@company.com', 'Rahul.Gandhi@company.com')"
      ]
     },
     "execution_count": 159,
     "metadata": {},
     "output_type": "execute_result"
    }
   ],
   "source": [
    "dev_1 = Developer('Narendra','Modi', 1000, 'Java')\n",
    "dev_2 = Developer('Rahul','Gandhi', 1000, 'Scala')\n",
    "dev_1.email,dev_2.email"
   ]
  },
  {
   "cell_type": "code",
   "execution_count": 160,
   "id": "recorded-european",
   "metadata": {},
   "outputs": [
    {
     "name": "stdout",
     "output_type": "stream",
     "text": [
      "Help on class Developer in module __main__:\n",
      "\n",
      "class Developer(Employee)\n",
      " |  Developer(first, last, pay, prog_lang)\n",
      " |  \n",
      " |  Method resolution order:\n",
      " |      Developer\n",
      " |      Employee\n",
      " |      builtins.object\n",
      " |  \n",
      " |  Methods defined here:\n",
      " |  \n",
      " |  __init__(self, first, last, pay, prog_lang)\n",
      " |      Initialize self.  See help(type(self)) for accurate signature.\n",
      " |  \n",
      " |  ----------------------------------------------------------------------\n",
      " |  Data and other attributes defined here:\n",
      " |  \n",
      " |  raise_amount = 1.1\n",
      " |  \n",
      " |  ----------------------------------------------------------------------\n",
      " |  Methods inherited from Employee:\n",
      " |  \n",
      " |  __repr__(self)\n",
      " |      Return repr(self).\n",
      " |  \n",
      " |  fullname(self)\n",
      " |  \n",
      " |  pay_raise(self)\n",
      " |  \n",
      " |  ----------------------------------------------------------------------\n",
      " |  Class methods inherited from Employee:\n",
      " |  \n",
      " |  from_string(emp_str, deliminator='-') from builtins.type\n",
      " |  \n",
      " |  set_raise_amount(amount) from builtins.type\n",
      " |  \n",
      " |  ----------------------------------------------------------------------\n",
      " |  Static methods inherited from Employee:\n",
      " |  \n",
      " |  is_workay(day)\n",
      " |  \n",
      " |  ----------------------------------------------------------------------\n",
      " |  Data descriptors inherited from Employee:\n",
      " |  \n",
      " |  __dict__\n",
      " |      dictionary for instance variables (if defined)\n",
      " |  \n",
      " |  __weakref__\n",
      " |      list of weak references to the object (if defined)\n",
      " |  \n",
      " |  ----------------------------------------------------------------------\n",
      " |  Data and other attributes inherited from Employee:\n",
      " |  \n",
      " |  num_of_emp = 10\n",
      "\n"
     ]
    }
   ],
   "source": [
    "help(Developer)"
   ]
  },
  {
   "cell_type": "code",
   "execution_count": 161,
   "id": "fitted-seeking",
   "metadata": {},
   "outputs": [
    {
     "name": "stdout",
     "output_type": "stream",
     "text": [
      "--> Narendra Modi\n",
      "--> Rahul Gandhi\n"
     ]
    }
   ],
   "source": [
    "mgr = Manager('Satish','Nadda', 2000)\n",
    "mgr.add_employee(dev_1)\n",
    "mgr.add_employee(dev_2)\n",
    "mgr.print_emp()"
   ]
  },
  {
   "cell_type": "code",
   "execution_count": 162,
   "id": "thrown-microphone",
   "metadata": {},
   "outputs": [
    {
     "name": "stdout",
     "output_type": "stream",
     "text": [
      "--> Narendra Modi\n"
     ]
    }
   ],
   "source": [
    "mgr.remove_emp(dev_2)\n",
    "mgr.print_emp()"
   ]
  },
  {
   "cell_type": "code",
   "execution_count": 163,
   "id": "introductory-analyst",
   "metadata": {},
   "outputs": [
    {
     "data": {
      "text/plain": [
       "(True, True, False)"
      ]
     },
     "execution_count": 163,
     "metadata": {},
     "output_type": "execute_result"
    }
   ],
   "source": [
    "isinstance(mgr, Manager), isinstance(mgr, Employee),isinstance(mgr, Developer)"
   ]
  },
  {
   "cell_type": "code",
   "execution_count": 164,
   "id": "signal-statement",
   "metadata": {},
   "outputs": [
    {
     "data": {
      "text/plain": [
       "(True, False)"
      ]
     },
     "execution_count": 164,
     "metadata": {},
     "output_type": "execute_result"
    }
   ],
   "source": [
    "issubclass(Manager, Employee),issubclass(Employee,Manager)"
   ]
  },
  {
   "cell_type": "code",
   "execution_count": 165,
   "id": "rural-lottery",
   "metadata": {},
   "outputs": [
    {
     "name": "stdout",
     "output_type": "stream",
     "text": [
      "Satish Nadda-Satish.Nadda@company.com\n"
     ]
    }
   ],
   "source": [
    "print(mgr)"
   ]
  },
  {
   "cell_type": "code",
   "execution_count": 166,
   "id": "cooperative-proposition",
   "metadata": {},
   "outputs": [
    {
     "data": {
      "text/plain": [
       "3000"
      ]
     },
     "execution_count": 166,
     "metadata": {},
     "output_type": "execute_result"
    }
   ],
   "source": [
    "# add magic method\n",
    "mgr + dev_1"
   ]
  },
  {
   "cell_type": "code",
   "execution_count": 167,
   "id": "composite-southeast",
   "metadata": {},
   "outputs": [
    {
     "data": {
      "text/plain": [
       "12"
      ]
     },
     "execution_count": 167,
     "metadata": {},
     "output_type": "execute_result"
    }
   ],
   "source": [
    "len(mgr)"
   ]
  },
  {
   "cell_type": "code",
   "execution_count": 192,
   "id": "forced-portsmouth",
   "metadata": {},
   "outputs": [],
   "source": [
    "class Employee1:\n",
    "    \n",
    "    def __init__(self, first, last):\n",
    "        self.first = first\n",
    "        self.last = last\n",
    "    \n",
    "    @property    \n",
    "    def email(self):\n",
    "        return '{}.{}@company.com'.format(self.first,self.last)\n",
    "        \n",
    "    @property    \n",
    "    def fullname(self):\n",
    "        return \"{} {}\".format(self.first, self.last)\n",
    "    \n",
    "    @fullname.setter\n",
    "    def fullname(self, name):\n",
    "        self.first, self.last = name.split(' ')\n",
    "        \n",
    "    @fullname.deleter\n",
    "    def fullname(self):\n",
    "        print('Deleing Name!!')\n",
    "        self.first = None\n",
    "        self.last = None\n",
    "    "
   ]
  },
  {
   "cell_type": "code",
   "execution_count": 193,
   "id": "affecting-characterization",
   "metadata": {},
   "outputs": [],
   "source": [
    "emp_1 = Employee1('Rahul', 'Gandhi')"
   ]
  },
  {
   "cell_type": "code",
   "execution_count": 194,
   "id": "generous-clothing",
   "metadata": {},
   "outputs": [
    {
     "data": {
      "text/plain": [
       "('Rahul', 'Gandhi', 'Rahul Gandhi', 'Rahul.Gandhi@company.com')"
      ]
     },
     "execution_count": 194,
     "metadata": {},
     "output_type": "execute_result"
    }
   ],
   "source": [
    "emp_1.first, emp_1.last, emp_1.fullname, emp_1.email"
   ]
  },
  {
   "cell_type": "code",
   "execution_count": 195,
   "id": "declared-haiti",
   "metadata": {},
   "outputs": [
    {
     "data": {
      "text/plain": [
       "('Narendra', 'Modi', 'Narendra Modi', 'Narendra.Modi@company.com')"
      ]
     },
     "execution_count": 195,
     "metadata": {},
     "output_type": "execute_result"
    }
   ],
   "source": [
    "emp_1.fullname = 'Narendra Modi'\n",
    "emp_1.first, emp_1.last, emp_1.fullname, emp_1.email"
   ]
  },
  {
   "cell_type": "code",
   "execution_count": 197,
   "id": "similar-composite",
   "metadata": {},
   "outputs": [
    {
     "name": "stdout",
     "output_type": "stream",
     "text": [
      "Deleing Name\n"
     ]
    }
   ],
   "source": [
    "del emp_1.fullname"
   ]
  },
  {
   "cell_type": "code",
   "execution_count": 198,
   "id": "geological-kernel",
   "metadata": {},
   "outputs": [
    {
     "data": {
      "text/plain": [
       "(None, None, 'None None', 'None.None@company.com')"
      ]
     },
     "execution_count": 198,
     "metadata": {},
     "output_type": "execute_result"
    }
   ],
   "source": [
    "emp_1.first, emp_1.last, emp_1.fullname, emp_1.email"
   ]
  },
  {
   "cell_type": "code",
   "execution_count": 206,
   "id": "aggressive-forwarding",
   "metadata": {},
   "outputs": [],
   "source": [
    "import collections\n",
    "\n",
    "Card = collections.namedtuple('Card',['rank', 'suit'])\n",
    "\n",
    "class FrenchDeck():\n",
    "    ranks = [str(n) for n in range(2,11)] + list('JQKA') \n",
    "    suits =  'spades diamonds clubs hearts'.split()\n",
    "    \n",
    "    def __init__(self):\n",
    "        self._cards = [(rank, suit) for rank in ranks for suit in suits]\n",
    "        \n",
    "    def __len__(self):\n",
    "        \n"
   ]
  },
  {
   "cell_type": "code",
   "execution_count": 202,
   "id": "classified-nitrogen",
   "metadata": {},
   "outputs": [
    {
     "data": {
      "text/plain": [
       "['2', '3', '4', '5', '6', '7', '8', '9', '10', 'J', 'Q', 'K', 'A']"
      ]
     },
     "execution_count": 202,
     "metadata": {},
     "output_type": "execute_result"
    }
   ],
   "source": [
    "[str(n) for n in range(2,11)] + list('JQKA') "
   ]
  },
  {
   "cell_type": "code",
   "execution_count": null,
   "id": "freelance-mailman",
   "metadata": {},
   "outputs": [],
   "source": []
  }
 ],
 "metadata": {
  "kernelspec": {
   "display_name": "Python 3",
   "language": "python",
   "name": "python3"
  },
  "language_info": {
   "codemirror_mode": {
    "name": "ipython",
    "version": 3
   },
   "file_extension": ".py",
   "mimetype": "text/x-python",
   "name": "python",
   "nbconvert_exporter": "python",
   "pygments_lexer": "ipython3",
   "version": "3.8.8"
  }
 },
 "nbformat": 4,
 "nbformat_minor": 5
}
