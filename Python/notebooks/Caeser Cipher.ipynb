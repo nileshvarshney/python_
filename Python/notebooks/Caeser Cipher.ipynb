{
 "cells": [
  {
   "cell_type": "code",
   "execution_count": 3,
   "id": "loaded-narrow",
   "metadata": {},
   "outputs": [],
   "source": [
    "alphabets = ['a','b','c','d','e','f','g','h','i','j','k','l','m','n','o','p','q','r','s','t','u','v','w','x','y','z']"
   ]
  },
  {
   "cell_type": "code",
   "execution_count": 117,
   "id": "noted-poison",
   "metadata": {},
   "outputs": [],
   "source": [
    "# def encrypt(plain_text, shift_amount):\n",
    "#     encrypted_list = []\n",
    "#     for ch in plain_text:\n",
    "#         if ch in alphabets:\n",
    "#             new_position = alphabets.index(ch) + shift_amount\n",
    "#             if new_position > len(alphabets):\n",
    "#                 new_position -= len(alphabets)\n",
    "#             encrypted_list.append(alphabets[new_position])\n",
    "#         else:\n",
    "#             encrypted_list.append(ch)\n",
    "#     print(''.join(encrypted_list))\n",
    "    \n",
    "    \n",
    "# def decrypt(cipher_text, shift_amount):\n",
    "#     decrypted_list = []\n",
    "#     for ch in cipher_text:\n",
    "#         if ch in alphabets:\n",
    "#             org_postion = alphabets.index(ch) - shift_amount\n",
    "#             if org_postion < 0:\n",
    "#                 org_postion  += len(alphabets)\n",
    "#             decrypted_list.append(alphabets[org_postion])\n",
    "#         else:\n",
    "#             decrypted_list.append(ch)\n",
    "#     print(''.join(decrypted_list))\n",
    "    \n",
    "\n",
    "def caeser(direction, plain_text, shift_amount):\n",
    "    new_list = []\n",
    "    for ch in plain_text:\n",
    "        if ch in alphabets:\n",
    "            if direction == 'decrypt': \n",
    "                new_position = alphabets.index(ch) - shift_amount\n",
    "                if new_position < 0:\n",
    "                    new_position  += len(alphabets) \n",
    "                new_list.append(alphabets[new_position])\n",
    "            elif direction == 'encrypt': \n",
    "                new_position = alphabets.index(ch)  + shift_amount\n",
    "                if new_position > len(alphabets) -1:\n",
    "                    new_position =  new_position - len(alphabets) \n",
    "                    print(new_position)\n",
    "                new_list.append(alphabets[new_position])\n",
    "        else:\n",
    "            new_list.append(ch)\n",
    "    print(''.join(new_list))\n",
    "    "
   ]
  },
  {
   "cell_type": "code",
   "execution_count": 100,
   "id": "comic-physiology",
   "metadata": {},
   "outputs": [
    {
     "ename": "KeyboardInterrupt",
     "evalue": "Interrupted by user",
     "output_type": "error",
     "traceback": [
      "\u001b[0;31m---------------------------------------------------------------------------\u001b[0m",
      "\u001b[0;31mKeyboardInterrupt\u001b[0m                         Traceback (most recent call last)",
      "\u001b[0;32m<ipython-input-100-b53cc721dd4c>\u001b[0m in \u001b[0;36m<module>\u001b[0;34m\u001b[0m\n\u001b[1;32m      1\u001b[0m \u001b[0mshould_continue\u001b[0m \u001b[0;34m=\u001b[0m \u001b[0;32mTrue\u001b[0m\u001b[0;34m\u001b[0m\u001b[0;34m\u001b[0m\u001b[0m\n\u001b[1;32m      2\u001b[0m \u001b[0;32mwhile\u001b[0m \u001b[0mshould_continue\u001b[0m\u001b[0;34m:\u001b[0m\u001b[0;34m\u001b[0m\u001b[0;34m\u001b[0m\u001b[0m\n\u001b[0;32m----> 3\u001b[0;31m     \u001b[0mdirection\u001b[0m \u001b[0;34m=\u001b[0m \u001b[0minput\u001b[0m\u001b[0;34m(\u001b[0m\u001b[0;34m\"Type 'encrypt' to encrypt the text, type 'decrypt' to decrypt the code\\t\"\u001b[0m\u001b[0;34m)\u001b[0m\u001b[0;34m\u001b[0m\u001b[0;34m\u001b[0m\u001b[0m\n\u001b[0m\u001b[1;32m      4\u001b[0m     \u001b[0mtext\u001b[0m \u001b[0;34m=\u001b[0m \u001b[0minput\u001b[0m\u001b[0;34m(\u001b[0m\u001b[0;34mf\"Enter the text to {direction}\\t\"\u001b[0m\u001b[0;34m)\u001b[0m\u001b[0;34m.\u001b[0m\u001b[0mlower\u001b[0m\u001b[0;34m(\u001b[0m\u001b[0;34m)\u001b[0m\u001b[0;34m\u001b[0m\u001b[0;34m\u001b[0m\u001b[0m\n\u001b[1;32m      5\u001b[0m     \u001b[0mshift\u001b[0m \u001b[0;34m=\u001b[0m \u001b[0mint\u001b[0m\u001b[0;34m(\u001b[0m\u001b[0minput\u001b[0m\u001b[0;34m(\u001b[0m\u001b[0;34m\"Inter the number of shift\\t\"\u001b[0m\u001b[0;34m)\u001b[0m\u001b[0;34m)\u001b[0m \u001b[0;34m%\u001b[0m \u001b[0;36m26\u001b[0m\u001b[0;34m\u001b[0m\u001b[0;34m\u001b[0m\u001b[0m\n",
      "\u001b[0;32m/opt/conda/lib/python3.8/site-packages/ipykernel/kernelbase.py\u001b[0m in \u001b[0;36mraw_input\u001b[0;34m(self, prompt)\u001b[0m\n\u001b[1;32m    846\u001b[0m                 \u001b[0;34m\"raw_input was called, but this frontend does not support input requests.\"\u001b[0m\u001b[0;34m\u001b[0m\u001b[0;34m\u001b[0m\u001b[0m\n\u001b[1;32m    847\u001b[0m             )\n\u001b[0;32m--> 848\u001b[0;31m         return self._input_request(str(prompt),\n\u001b[0m\u001b[1;32m    849\u001b[0m             \u001b[0mself\u001b[0m\u001b[0;34m.\u001b[0m\u001b[0m_parent_ident\u001b[0m\u001b[0;34m,\u001b[0m\u001b[0;34m\u001b[0m\u001b[0;34m\u001b[0m\u001b[0m\n\u001b[1;32m    850\u001b[0m             \u001b[0mself\u001b[0m\u001b[0;34m.\u001b[0m\u001b[0m_parent_header\u001b[0m\u001b[0;34m,\u001b[0m\u001b[0;34m\u001b[0m\u001b[0;34m\u001b[0m\u001b[0m\n",
      "\u001b[0;32m/opt/conda/lib/python3.8/site-packages/ipykernel/kernelbase.py\u001b[0m in \u001b[0;36m_input_request\u001b[0;34m(self, prompt, ident, parent, password)\u001b[0m\n\u001b[1;32m    890\u001b[0m             \u001b[0;32mexcept\u001b[0m \u001b[0mKeyboardInterrupt\u001b[0m\u001b[0;34m:\u001b[0m\u001b[0;34m\u001b[0m\u001b[0;34m\u001b[0m\u001b[0m\n\u001b[1;32m    891\u001b[0m                 \u001b[0;31m# re-raise KeyboardInterrupt, to truncate traceback\u001b[0m\u001b[0;34m\u001b[0m\u001b[0;34m\u001b[0m\u001b[0;34m\u001b[0m\u001b[0m\n\u001b[0;32m--> 892\u001b[0;31m                 \u001b[0;32mraise\u001b[0m \u001b[0mKeyboardInterrupt\u001b[0m\u001b[0;34m(\u001b[0m\u001b[0;34m\"Interrupted by user\"\u001b[0m\u001b[0;34m)\u001b[0m \u001b[0;32mfrom\u001b[0m \u001b[0;32mNone\u001b[0m\u001b[0;34m\u001b[0m\u001b[0;34m\u001b[0m\u001b[0m\n\u001b[0m\u001b[1;32m    893\u001b[0m             \u001b[0;32mexcept\u001b[0m \u001b[0mException\u001b[0m \u001b[0;32mas\u001b[0m \u001b[0me\u001b[0m\u001b[0;34m:\u001b[0m\u001b[0;34m\u001b[0m\u001b[0;34m\u001b[0m\u001b[0m\n\u001b[1;32m    894\u001b[0m                 \u001b[0mself\u001b[0m\u001b[0;34m.\u001b[0m\u001b[0mlog\u001b[0m\u001b[0;34m.\u001b[0m\u001b[0mwarning\u001b[0m\u001b[0;34m(\u001b[0m\u001b[0;34m\"Invalid Message:\"\u001b[0m\u001b[0;34m,\u001b[0m \u001b[0mexc_info\u001b[0m\u001b[0;34m=\u001b[0m\u001b[0;32mTrue\u001b[0m\u001b[0;34m)\u001b[0m\u001b[0;34m\u001b[0m\u001b[0;34m\u001b[0m\u001b[0m\n",
      "\u001b[0;31mKeyboardInterrupt\u001b[0m: Interrupted by user"
     ]
    }
   ],
   "source": [
    "should_continue = True\n",
    "while should_continue:\n",
    "    direction = input(\"Type 'encrypt' to encrypt the text, type 'decrypt' to decrypt the code\\t\")\n",
    "    text = input(f\"Enter the text to {direction}\\t\").lower()\n",
    "    shift = int(input(\"Inter the number of shift\\t\")) % 26\n",
    "    caeser(direction,text,shift)\n",
    "    should_continue = input(\"Type 'yes' if you want to go again else type 'no'\\t\")\n",
    "    if should_continue in ['no','No']:\n",
    "        should_continue = False"
   ]
  },
  {
   "cell_type": "code",
   "execution_count": 115,
   "id": "entertaining-amateur",
   "metadata": {},
   "outputs": [
    {
     "name": "stdout",
     "output_type": "stream",
     "text": [
      "0\n",
      "xctujpga\n"
     ]
    }
   ],
   "source": [
    "caeser('encrypt','varshney',2)"
   ]
  },
  {
   "cell_type": "code",
   "execution_count": 119,
   "id": "hungarian-cylinder",
   "metadata": {},
   "outputs": [
    {
     "name": "stdout",
     "output_type": "stream",
     "text": [
      "yvarshney\n"
     ]
    }
   ],
   "source": [
    "caeser('decrypt','axctujpga',2)"
   ]
  },
  {
   "cell_type": "code",
   "execution_count": 98,
   "id": "awful-brazilian",
   "metadata": {},
   "outputs": [
    {
     "data": {
      "text/plain": [
       "26"
      ]
     },
     "execution_count": 98,
     "metadata": {},
     "output_type": "execute_result"
    }
   ],
   "source": [
    "len(alphabets)"
   ]
  },
  {
   "cell_type": "code",
   "execution_count": null,
   "id": "developmental-blink",
   "metadata": {},
   "outputs": [],
   "source": []
  }
 ],
 "metadata": {
  "kernelspec": {
   "display_name": "Python 3",
   "language": "python",
   "name": "python3"
  },
  "language_info": {
   "codemirror_mode": {
    "name": "ipython",
    "version": 3
   },
   "file_extension": ".py",
   "mimetype": "text/x-python",
   "name": "python",
   "nbconvert_exporter": "python",
   "pygments_lexer": "ipython3",
   "version": "3.8.8"
  }
 },
 "nbformat": 4,
 "nbformat_minor": 5
}
