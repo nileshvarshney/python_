{
 "cells": [
  {
   "cell_type": "code",
   "execution_count": 2,
   "id": "proof-period",
   "metadata": {},
   "outputs": [
    {
     "name": "stdout",
     "output_type": "stream",
     "text": [
      "False\n",
      "True\n"
     ]
    }
   ],
   "source": [
    "def check_even(number):\n",
    "    return number % 2 == 0\n",
    "\n",
    "print(check_even(21))\n",
    "print(check_even(20))"
   ]
  },
  {
   "cell_type": "code",
   "execution_count": 14,
   "id": "sufficient-muslim",
   "metadata": {},
   "outputs": [
    {
     "name": "stdout",
     "output_type": "stream",
     "text": [
      "True\n",
      "False\n"
     ]
    }
   ],
   "source": [
    "def check_even_list(mylist):\n",
    "    for num in mylist:\n",
    "        if num % 2 == 0:\n",
    "            return True\n",
    "        else:\n",
    "            pass\n",
    "    return False\n",
    "print(check_even_list([i for i in range(1,11,1)]))\n",
    "print(check_even_list([i for i in range(1,11,2)]))"
   ]
  },
  {
   "cell_type": "code",
   "execution_count": 15,
   "id": "verbal-softball",
   "metadata": {},
   "outputs": [
    {
     "name": "stdout",
     "output_type": "stream",
     "text": [
      "[2, 4, 6, 8, 10, 12, 14, 16, 18]\n",
      "[1, 3, 5, 7, 9, 11, 13, 15, 17, 19]\n"
     ]
    }
   ],
   "source": [
    "even_list = []\n",
    "odd_list = []\n",
    "def filter_even_odd(mylist): \n",
    "    for num in mylist:\n",
    "        if num % 2 == 0:\n",
    "            even_list.append(num)\n",
    "        else:\n",
    "            odd_list.append(num)\n",
    "\n",
    "filter_even_odd([i for i in range(1,20,1)])            \n",
    "print(even_list)\n",
    "print(odd_list)"
   ]
  },
  {
   "cell_type": "code",
   "execution_count": null,
   "id": "endangered-projector",
   "metadata": {},
   "outputs": [],
   "source": [
    "employee = [('jose':30),('John':40), ('Edwin',20)]\n",
    "\n",
    "def employee_of_month(emp):\n",
    "    hours = 0\n",
    "    employee_name =''\n",
    "    for name, hour in emp:\n",
    "        if hour > hours:\n",
    "            hours = hour\n",
    "            employee_name = name\n",
    "        else:\n",
    "            pass\n",
    "    return (employee_name,hours )"
   ]
  }
 ],
 "metadata": {
  "kernelspec": {
   "display_name": "Python 3",
   "language": "python",
   "name": "python3"
  },
  "language_info": {
   "codemirror_mode": {
    "name": "ipython",
    "version": 3
   },
   "file_extension": ".py",
   "mimetype": "text/x-python",
   "name": "python",
   "nbconvert_exporter": "python",
   "pygments_lexer": "ipython3",
   "version": "3.8.8"
  }
 },
 "nbformat": 4,
 "nbformat_minor": 5
}
