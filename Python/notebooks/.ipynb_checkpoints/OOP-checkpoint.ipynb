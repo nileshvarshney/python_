{
 "cells": [
  {
   "cell_type": "code",
   "execution_count": 2,
   "id": "retired-technician",
   "metadata": {},
   "outputs": [],
   "source": [
    "class Employee:\n",
    "    raise_amount = 1.04\n",
    "    num_of_emp = 0\n",
    "    \n",
    "    def __init__(self, first, last, pay):\n",
    "        self.first = first\n",
    "        self.last = last\n",
    "        self.pay = pay\n",
    "        self.email = '{}.{}@company.com'.format(self.first,self.last)\n",
    "        num_of_emp + = 1\n",
    "        \n",
    "    def fullname(self):\n",
    "        return \"{} {}\".format(self.first, self.last)\n",
    "    \n",
    "    \n",
    "    def pay_raise(self):\n",
    "        return self.pay * Employee.raise_amount"
   ]
  },
  {
   "cell_type": "code",
   "execution_count": 3,
   "id": "armed-intelligence",
   "metadata": {},
   "outputs": [],
   "source": [
    "emp1 = Employee('Test','User', 5000)"
   ]
  },
  {
   "cell_type": "code",
   "execution_count": 4,
   "id": "continent-batman",
   "metadata": {},
   "outputs": [
    {
     "data": {
      "text/plain": [
       "'Test User'"
      ]
     },
     "execution_count": 4,
     "metadata": {},
     "output_type": "execute_result"
    }
   ],
   "source": [
    "emp1.fullname()"
   ]
  },
  {
   "cell_type": "code",
   "execution_count": 6,
   "id": "published-death",
   "metadata": {},
   "outputs": [
    {
     "data": {
      "text/plain": [
       "5200.0"
      ]
     },
     "execution_count": 6,
     "metadata": {},
     "output_type": "execute_result"
    }
   ],
   "source": [
    "emp1.pay_raise()"
   ]
  },
  {
   "cell_type": "code",
   "execution_count": 7,
   "id": "sound-mailing",
   "metadata": {},
   "outputs": [
    {
     "data": {
      "text/plain": [
       "mappingproxy({'__module__': '__main__',\n",
       "              'raise_amount': 1.04,\n",
       "              '__init__': <function __main__.Employee.__init__(self, first, last, pay)>,\n",
       "              'fullname': <function __main__.Employee.fullname(self)>,\n",
       "              'pay_raise': <function __main__.Employee.pay_raise(self)>,\n",
       "              '__dict__': <attribute '__dict__' of 'Employee' objects>,\n",
       "              '__weakref__': <attribute '__weakref__' of 'Employee' objects>,\n",
       "              '__doc__': None})"
      ]
     },
     "execution_count": 7,
     "metadata": {},
     "output_type": "execute_result"
    }
   ],
   "source": [
    "Employee.__dict__"
   ]
  },
  {
   "cell_type": "code",
   "execution_count": 9,
   "id": "quiet-sport",
   "metadata": {},
   "outputs": [
    {
     "data": {
      "text/plain": [
       "{'first': 'Test',\n",
       " 'last': 'User',\n",
       " 'pay': 5000,\n",
       " 'email': 'Test.User@company.com',\n",
       " 'raise_amount': 1.1}"
      ]
     },
     "execution_count": 9,
     "metadata": {},
     "output_type": "execute_result"
    }
   ],
   "source": [
    "emp1.raise_amount = 1.10\n",
    "emp1.__dict__"
   ]
  },
  {
   "cell_type": "code",
   "execution_count": null,
   "id": "aging-catering",
   "metadata": {},
   "outputs": [],
   "source": []
  }
 ],
 "metadata": {
  "kernelspec": {
   "display_name": "Python 3",
   "language": "python",
   "name": "python3"
  },
  "language_info": {
   "codemirror_mode": {
    "name": "ipython",
    "version": 3
   },
   "file_extension": ".py",
   "mimetype": "text/x-python",
   "name": "python",
   "nbconvert_exporter": "python",
   "pygments_lexer": "ipython3",
   "version": "3.8.8"
  }
 },
 "nbformat": 4,
 "nbformat_minor": 5
}
