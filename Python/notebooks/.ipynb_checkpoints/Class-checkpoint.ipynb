{
 "cells": [
  {
   "cell_type": "code",
   "execution_count": 15,
   "id": "integrated-animation",
   "metadata": {},
   "outputs": [],
   "source": [
    "class Dog():\n",
    "    species = 'Mammal'\n",
    "    \n",
    "    def __init__(self, breed, name, spots):\n",
    "        self.breed = breed\n",
    "        self.name = name\n",
    "        self.spots = spots\n",
    "        \n",
    "    def bark(self, number):\n",
    "        print('{} barks WOOF!! and number is {}'.format(self.name, number))\n",
    "        "
   ]
  },
  {
   "cell_type": "code",
   "execution_count": 16,
   "id": "infrared-liquid",
   "metadata": {},
   "outputs": [
    {
     "name": "stdout",
     "output_type": "stream",
     "text": [
      "Jamie Mammal True\n"
     ]
    }
   ],
   "source": [
    "dog = Dog('Jak-a-Poo', 'Jamie', True)\n",
    "print(dog.name, dog.species, dog.spots)"
   ]
  },
  {
   "cell_type": "code",
   "execution_count": 18,
   "id": "criminal-worthy",
   "metadata": {},
   "outputs": [
    {
     "name": "stdout",
     "output_type": "stream",
     "text": [
      "Jamie barks WOOF!! and number is 10\n"
     ]
    }
   ],
   "source": [
    "dog.bark(10)"
   ]
  },
  {
   "cell_type": "code",
   "execution_count": 31,
   "id": "formal-career",
   "metadata": {},
   "outputs": [],
   "source": [
    "class circle():\n",
    "    # class object attributes\n",
    "    pi = 3.14\n",
    "    \n",
    "    def __init__(self, radius):\n",
    "        self.radius = radius\n",
    "        \n",
    "    def get_circumference(self):\n",
    "        return 2 * circle.pi * self.radius\n",
    "    \n",
    "    def get_area(self):\n",
    "        return circle.pi * self.radius * self.radius"
   ]
  },
  {
   "cell_type": "code",
   "execution_count": 32,
   "id": "muslim-input",
   "metadata": {},
   "outputs": [
    {
     "name": "stdout",
     "output_type": "stream",
     "text": [
      "circumference 62.800000000000004\n",
      "area 314.0\n"
     ]
    }
   ],
   "source": [
    "c = circle(10)\n",
    "print('circumference {}'.format(c.get_circumference()))\n",
    "print('area {}'.format(c.get_area()))"
   ]
  },
  {
   "cell_type": "code",
   "execution_count": 40,
   "id": "disabled-socket",
   "metadata": {},
   "outputs": [],
   "source": [
    "# dundor method\n",
    "class book():\n",
    "    def __init__(self, book, author, pages):\n",
    "        self.book = book\n",
    "        self.author  = author\n",
    "        self.pages = pages\n",
    "        \n",
    "    def __str__(self):\n",
    "        return f\"{self.book} by {self.author}\"\n",
    "    \n",
    "    def __len__(self):\n",
    "        return self.pages\n",
    "    \n",
    "    def __del__(self):\n",
    "        print (f\"{self.book} by {self.author} has been deleted\")"
   ]
  },
  {
   "cell_type": "code",
   "execution_count": 41,
   "id": "alternative-offering",
   "metadata": {},
   "outputs": [
    {
     "data": {
      "text/plain": [
       "'Python by Nilesh'"
      ]
     },
     "execution_count": 41,
     "metadata": {},
     "output_type": "execute_result"
    }
   ],
   "source": [
    "b = book(\"Python\", \"Nilesh\", 100)\n",
    "str(b)"
   ]
  },
  {
   "cell_type": "code",
   "execution_count": 42,
   "id": "spare-correspondence",
   "metadata": {},
   "outputs": [
    {
     "data": {
      "text/plain": [
       "100"
      ]
     },
     "execution_count": 42,
     "metadata": {},
     "output_type": "execute_result"
    }
   ],
   "source": [
    "len(b)"
   ]
  },
  {
   "cell_type": "code",
   "execution_count": 43,
   "id": "distributed-monkey",
   "metadata": {},
   "outputs": [
    {
     "name": "stdout",
     "output_type": "stream",
     "text": [
      "Python by Nilesh has been deleted\n"
     ]
    }
   ],
   "source": [
    "del(b)"
   ]
  },
  {
   "cell_type": "code",
   "execution_count": 58,
   "id": "posted-parish",
   "metadata": {},
   "outputs": [
    {
     "name": "stdout",
     "output_type": "stream",
     "text": [
      "Distance between two cordinate is 9.433981132056603\n"
     ]
    }
   ],
   "source": [
    "from math import sqrt\n",
    "class line():\n",
    "    def __init__(self, cordinate1, cordinate2):\n",
    "        self.cordinate1 = cordinate1\n",
    "        self.cordinate2 = cordinate2\n",
    "        \n",
    "    def distane(self):\n",
    "        dist = sqrt((self.cordinate2[0] - self.cordinate1[0])**2 + (self.cordinate2[1] - self.cordinate1[1])**2)\n",
    "        print ('Distance between two cordinate is {}'.format(dist))\n",
    "    \n",
    "    def slope(self):\n",
    "        sl = (self.cordinate2[1] - self.cordinate1[1])/(self.cordinate2[0] - self.cordinate1[0])\n",
    "        print ('Slope between two cordinate is {}'.format(sl))\n",
    "    \n",
    "cordinate1 = (3,2)\n",
    "cordinate2 = (8,10)\n",
    "\n",
    "l = line(cordinate1,cordinate2)\n",
    "l.distane()"
   ]
  },
  {
   "cell_type": "code",
   "execution_count": 59,
   "id": "julian-scanner",
   "metadata": {},
   "outputs": [
    {
     "name": "stdout",
     "output_type": "stream",
     "text": [
      "Slope between two cordinate is 1.6\n"
     ]
    }
   ],
   "source": [
    "l.slope()"
   ]
  },
  {
   "cell_type": "code",
   "execution_count": 64,
   "id": "hungarian-channel",
   "metadata": {},
   "outputs": [
    {
     "name": "stdout",
     "output_type": "stream",
     "text": [
      "Volume : 37.68\n"
     ]
    }
   ],
   "source": [
    "class cylinder():\n",
    "    pi = 3.14\n",
    "    def __init__(self, radius = 0, height=1):\n",
    "        self.radius = radius\n",
    "        self.height = height\n",
    "    \n",
    "    def volume(self):\n",
    "        vol = cylinder.pi * self.radius * self.radius * self.height\n",
    "        print(f'Volume : {vol}')\n",
    "    \n",
    "    def surface_area(self):\n",
    "        # 2πrh+2πr2\n",
    "        sa = (2 * cylinder.pi * self.radius * self.height) + (2 * cylinder.pi * self.radius * self.radius)\n",
    "        print(f'Surface Area : {sa}')\n",
    "    \n",
    "c = cylinder(2,3)\n",
    "c.volume()"
   ]
  },
  {
   "cell_type": "code",
   "execution_count": 65,
   "id": "technological-opera",
   "metadata": {},
   "outputs": [
    {
     "name": "stdout",
     "output_type": "stream",
     "text": [
      "Surface Area : 62.8\n"
     ]
    }
   ],
   "source": [
    "c.surface_area()"
   ]
  },
  {
   "cell_type": "code",
   "execution_count": 72,
   "id": "unusual-raise",
   "metadata": {},
   "outputs": [],
   "source": [
    "class account():\n",
    "    def __init__(self, owner, balance):\n",
    "        self.owner = owner\n",
    "        self.balance = balance\n",
    "    \n",
    "    def __str__(self):\n",
    "        return (f\"Account Owner : {self.owner}\\nAccount Balance : {self.balance}\")\n",
    "    \n",
    "    def withdrawal(self, amount):\n",
    "        if self.balance >= amount:\n",
    "            self.balance -= amount\n",
    "            print(\"Withdrawal Accepted\")\n",
    "        else:\n",
    "            print(f\"Fund unavailable\")"
   ]
  },
  {
   "cell_type": "code",
   "execution_count": 73,
   "id": "hollow-exposure",
   "metadata": {},
   "outputs": [
    {
     "name": "stdout",
     "output_type": "stream",
     "text": [
      "Account Owner : Jose\n",
      "Account Balance : 200\n"
     ]
    }
   ],
   "source": [
    "acc = account(\"Jose\", 200)\n",
    "print(acc)"
   ]
  },
  {
   "cell_type": "code",
   "execution_count": 74,
   "id": "extensive-selling",
   "metadata": {},
   "outputs": [
    {
     "data": {
      "text/plain": [
       "'Jose'"
      ]
     },
     "execution_count": 74,
     "metadata": {},
     "output_type": "execute_result"
    }
   ],
   "source": [
    "acc.owner"
   ]
  },
  {
   "cell_type": "code",
   "execution_count": 75,
   "id": "swiss-studio",
   "metadata": {},
   "outputs": [
    {
     "data": {
      "text/plain": [
       "200"
      ]
     },
     "execution_count": 75,
     "metadata": {},
     "output_type": "execute_result"
    }
   ],
   "source": [
    "acc.balance"
   ]
  },
  {
   "cell_type": "code",
   "execution_count": 76,
   "id": "interracial-talent",
   "metadata": {},
   "outputs": [
    {
     "name": "stdout",
     "output_type": "stream",
     "text": [
      "Withdrawal Accepted\n"
     ]
    }
   ],
   "source": [
    "acc.withdrawal(75)"
   ]
  },
  {
   "cell_type": "code",
   "execution_count": 77,
   "id": "seeing-present",
   "metadata": {},
   "outputs": [
    {
     "name": "stdout",
     "output_type": "stream",
     "text": [
      "Fund unavailable\n"
     ]
    }
   ],
   "source": [
    "acc.withdrawal(500)"
   ]
  },
  {
   "cell_type": "code",
   "execution_count": 78,
   "id": "broke-peninsula",
   "metadata": {},
   "outputs": [
    {
     "name": "stdout",
     "output_type": "stream",
     "text": [
      "Account Owner : Jose\n",
      "Account Balance : 125\n"
     ]
    }
   ],
   "source": [
    "print(acc)"
   ]
  },
  {
   "cell_type": "code",
   "execution_count": 80,
   "id": "given-weekly",
   "metadata": {},
   "outputs": [
    {
     "name": "stdout",
     "output_type": "stream",
     "text": [
      "Collecting PyPi\n",
      "  Downloading pypi-2.1.tar.gz (997 bytes)\n",
      "Building wheels for collected packages: PyPi\n",
      "  Building wheel for PyPi (setup.py) ... \u001b[?25ldone\n",
      "\u001b[?25h  Created wheel for PyPi: filename=pypi-2.1-py3-none-any.whl size=1353 sha256=79c936d18250508cb2367901c391da7fa277f073013a320f97992d9b2aa82076\n",
      "  Stored in directory: /home/jovyan/.cache/pip/wheels/6e/bb/35/2b31808160dec7d2186ec14eca0b52c3f5a337d1aa40d87f59\n",
      "Successfully built PyPi\n",
      "Installing collected packages: PyPi\n",
      "Successfully installed PyPi-2.1\n",
      "Note: you may need to restart the kernel to use updated packages.\n"
     ]
    }
   ],
   "source": [
    "pip install PyPi"
   ]
  },
  {
   "cell_type": "code",
   "execution_count": null,
   "id": "spatial-publicity",
   "metadata": {},
   "outputs": [],
   "source": []
  }
 ],
 "metadata": {
  "kernelspec": {
   "display_name": "Python 3",
   "language": "python",
   "name": "python3"
  },
  "language_info": {
   "codemirror_mode": {
    "name": "ipython",
    "version": 3
   },
   "file_extension": ".py",
   "mimetype": "text/x-python",
   "name": "python",
   "nbconvert_exporter": "python",
   "pygments_lexer": "ipython3",
   "version": "3.8.8"
  }
 },
 "nbformat": 4,
 "nbformat_minor": 5
}
