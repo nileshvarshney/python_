{
 "cells": [
  {
   "cell_type": "code",
   "execution_count": 4,
   "id": "digital-senior",
   "metadata": {},
   "outputs": [],
   "source": [
    "import re"
   ]
  },
  {
   "cell_type": "code",
   "execution_count": 5,
   "id": "stopped-burner",
   "metadata": {},
   "outputs": [],
   "source": [
    "text = \"Learn Python like a Professional. Learn Python like a Professional\""
   ]
  },
  {
   "cell_type": "code",
   "execution_count": 8,
   "id": "clear-holiday",
   "metadata": {},
   "outputs": [],
   "source": [
    "pattern = \"Python\""
   ]
  },
  {
   "cell_type": "code",
   "execution_count": 11,
   "id": "intelligent-baptist",
   "metadata": {},
   "outputs": [],
   "source": [
    "match = re.search(pattern, text)"
   ]
  },
  {
   "cell_type": "code",
   "execution_count": 12,
   "id": "separate-encyclopedia",
   "metadata": {},
   "outputs": [
    {
     "data": {
      "text/plain": [
       "<re.Match object; span=(6, 12), match='Python'>"
      ]
     },
     "execution_count": 12,
     "metadata": {},
     "output_type": "execute_result"
    }
   ],
   "source": [
    "match"
   ]
  },
  {
   "cell_type": "code",
   "execution_count": 13,
   "id": "inside-chamber",
   "metadata": {},
   "outputs": [
    {
     "data": {
      "text/plain": [
       "(6, 12)"
      ]
     },
     "execution_count": 13,
     "metadata": {},
     "output_type": "execute_result"
    }
   ],
   "source": [
    "match.span()"
   ]
  },
  {
   "cell_type": "code",
   "execution_count": 16,
   "id": "unusual-better",
   "metadata": {},
   "outputs": [
    {
     "data": {
      "text/plain": [
       "6"
      ]
     },
     "execution_count": 16,
     "metadata": {},
     "output_type": "execute_result"
    }
   ],
   "source": [
    "match.start()"
   ]
  },
  {
   "cell_type": "code",
   "execution_count": 17,
   "id": "equipped-rings",
   "metadata": {},
   "outputs": [
    {
     "data": {
      "text/plain": [
       "12"
      ]
     },
     "execution_count": 17,
     "metadata": {},
     "output_type": "execute_result"
    }
   ],
   "source": [
    "match.end()"
   ]
  },
  {
   "cell_type": "code",
   "execution_count": 19,
   "id": "documented-prospect",
   "metadata": {},
   "outputs": [],
   "source": [
    "matches = re.findall(pattern, text)"
   ]
  },
  {
   "cell_type": "code",
   "execution_count": 20,
   "id": "headed-substitute",
   "metadata": {},
   "outputs": [
    {
     "data": {
      "text/plain": [
       "['Python', 'Python']"
      ]
     },
     "execution_count": 20,
     "metadata": {},
     "output_type": "execute_result"
    }
   ],
   "source": [
    "matches"
   ]
  },
  {
   "cell_type": "code",
   "execution_count": 26,
   "id": "considered-assault",
   "metadata": {},
   "outputs": [
    {
     "name": "stdout",
     "output_type": "stream",
     "text": [
      "<re.Match object; span=(6, 12), match='Python'>\n",
      "6\n",
      "Python\n",
      "<re.Match object; span=(40, 46), match='Python'>\n",
      "40\n",
      "Python\n"
     ]
    }
   ],
   "source": [
    "for match in re.finditer(pattern, text):\n",
    "    print(match)\n",
    "    print(match.start())\n",
    "    print(match.group())"
   ]
  },
  {
   "cell_type": "code",
   "execution_count": 34,
   "id": "logical-chuck",
   "metadata": {},
   "outputs": [
    {
     "data": {
      "text/plain": [
       "'123-456-7890'"
      ]
     },
     "execution_count": 34,
     "metadata": {},
     "output_type": "execute_result"
    }
   ],
   "source": [
    "text = \"\"\"My phone number is 123-456-7890. Find it using regular expression. \n",
    "Here is my another number 456-678-9876.For negative test 234-456\"\"\"\n",
    "pattern = r'\\d{3}-\\d{3}-\\d{4}'\n",
    "re.search(pattern,text).group()"
   ]
  },
  {
   "cell_type": "code",
   "execution_count": 35,
   "id": "similar-ecology",
   "metadata": {},
   "outputs": [
    {
     "data": {
      "text/plain": [
       "['123-456-7890', '456-678-9876']"
      ]
     },
     "execution_count": 35,
     "metadata": {},
     "output_type": "execute_result"
    }
   ],
   "source": [
    "re.findall(pattern,text)"
   ]
  },
  {
   "cell_type": "code",
   "execution_count": 36,
   "id": "colonial-builder",
   "metadata": {},
   "outputs": [
    {
     "data": {
      "text/plain": [
       "[('123', '456', '7890'), ('456', '678', '9876')]"
      ]
     },
     "execution_count": 36,
     "metadata": {},
     "output_type": "execute_result"
    }
   ],
   "source": [
    "# if pattern is complicated then compile can be used\n",
    "phone_pattern = re.compile(r'(\\d{3})-(\\d{3})-(\\d{4})')\n",
    "re.findall(phone_pattern,text)"
   ]
  },
  {
   "cell_type": "code",
   "execution_count": 40,
   "id": "broken-mercury",
   "metadata": {},
   "outputs": [
    {
     "name": "stdout",
     "output_type": "stream",
     "text": [
      "Phone area codes 123\n",
      "Last 4 digits 7890\n",
      "full phone number is 123-456-7890\n",
      "Phone area codes 456\n",
      "Last 4 digits 9876\n",
      "full phone number is 456-678-9876\n"
     ]
    }
   ],
   "source": [
    "for match in re.finditer(phone_pattern,text):\n",
    "    print(f'Phone area codes {match.group(1)}')\n",
    "    print(f'Last 4 digits {match.group(3)}')\n",
    "    print(f'full phone number is {match.group()}')"
   ]
  },
  {
   "cell_type": "code",
   "execution_count": 44,
   "id": "passive-making",
   "metadata": {},
   "outputs": [
    {
     "data": {
      "text/plain": [
       "'this is a string but it has punctuation How I can remove it'"
      ]
     },
     "execution_count": 44,
     "metadata": {},
     "output_type": "execute_result"
    }
   ],
   "source": [
    "text = \"this is a string! but it has punctuation. How I can remove it?\"\n",
    "pattern = re.compile(r'[^!.? ]+')\n",
    "clean = re.findall(pattern,text)\n",
    "' '.join(clean)"
   ]
  },
  {
   "cell_type": "code",
   "execution_count": 46,
   "id": "literary-island",
   "metadata": {},
   "outputs": [
    {
     "data": {
      "text/plain": [
       "'this is a string but it has punctuation How I can remove it'"
      ]
     },
     "execution_count": 46,
     "metadata": {},
     "output_type": "execute_result"
    }
   ],
   "source": [
    "pattern2 = re.compile(r'[\\w]+')\n",
    "clean2 = re.findall(pattern2,text)\n",
    "' '.join(clean2)"
   ]
  },
  {
   "cell_type": "code",
   "execution_count": null,
   "id": "protected-ownership",
   "metadata": {},
   "outputs": [],
   "source": []
  }
 ],
 "metadata": {
  "kernelspec": {
   "display_name": "Python 3",
   "language": "python",
   "name": "python3"
  },
  "language_info": {
   "codemirror_mode": {
    "name": "ipython",
    "version": 3
   },
   "file_extension": ".py",
   "mimetype": "text/x-python",
   "name": "python",
   "nbconvert_exporter": "python",
   "pygments_lexer": "ipython3",
   "version": "3.8.8"
  }
 },
 "nbformat": 4,
 "nbformat_minor": 5
}
