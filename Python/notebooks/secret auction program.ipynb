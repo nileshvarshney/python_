{
 "cells": [
  {
   "cell_type": "code",
   "execution_count": 3,
   "id": "thrown-religion",
   "metadata": {},
   "outputs": [],
   "source": [
    "logo = '''\n",
    "                         ___________\n",
    "                         \\         /\n",
    "                          )_______(\n",
    "                          |\"\"\"\"\"\"\"|_.-._,.---------.,_.-._\n",
    "                          |       | | |               | | ''-.\n",
    "                          |       |_| |_             _| |_..-'\n",
    "                          |_______| '-' `'---------'` '-'\n",
    "                          )\"\"\"\"\"\"\"(\n",
    "                         /_________\\\\\n",
    "                       .-------------.\n",
    "                      /_______________\\\\\n",
    "'''"
   ]
  },
  {
   "cell_type": "markdown",
   "id": "automated-rochester",
   "metadata": {},
   "source": [
    "### Wiki Link\n",
    "https://en.wikipedia.org/wiki/First-price_sealed-bid_auction#:~:text=A%20first%2Dprice%20sealed%2Dbid,the%20price%20that%20was%20submitted."
   ]
  },
  {
   "cell_type": "code",
   "execution_count": 5,
   "id": "committed-bedroom",
   "metadata": {},
   "outputs": [],
   "source": [
    "from replit import clear"
   ]
  },
  {
   "cell_type": "code",
   "execution_count": 7,
   "id": "serial-hybrid",
   "metadata": {},
   "outputs": [
    {
     "name": "stdout",
     "output_type": "stream",
     "text": [
      "\n",
      "                         ___________\n",
      "                         \\         /\n",
      "                          )_______(\n",
      "                          |\"\"\"\"\"\"\"|_.-._,.---------.,_.-._\n",
      "                          |       | | |               | | ''-.\n",
      "                          |       |_| |_             _| |_..-'\n",
      "                          |_______| '-' `'---------'` '-'\n",
      "                          )\"\"\"\"\"\"\"(\n",
      "                         /_________\\\n",
      "                       .-------------.\n",
      "                      /_______________\\\n",
      "\n"
     ]
    }
   ],
   "source": [
    "print(logo)"
   ]
  },
  {
   "cell_type": "code",
   "execution_count": 18,
   "id": "leading-shadow",
   "metadata": {},
   "outputs": [],
   "source": [
    "biding = {}\n",
    "bidding_open = True\n",
    "def highest_bidding():\n",
    "    highest_bidder_name = ''\n",
    "    highest_bid_amount = 0\n",
    "    for k, v in biding.items():\n",
    "        if v > highest_bid_amount:\n",
    "            highest_bidder_name = k\n",
    "            highest_bid_amount = v\n",
    "        else:\n",
    "            pass\n",
    "        \n",
    "    print(f'Highest Bidder is {highest_bidder_name} with bidding amount {highest_bid_amount}')\n",
    "    "
   ]
  },
  {
   "cell_type": "code",
   "execution_count": 23,
   "id": "metropolitan-chinese",
   "metadata": {},
   "outputs": [
    {
     "name": "stdout",
     "output_type": "stream",
     "text": [
      "Enter Your Name :\tQ\n",
      "Enter your Bid Amount :\t10\n",
      "Do you want to enter another bid(yes/no)?yes\n",
      "\u001b[H\u001b[2JEnter Your Name :\tB\n",
      "Enter your Bid Amount :\t20\n",
      "Do you want to enter another bid(yes/no)?Yes\n",
      "\u001b[H\u001b[2JEnter Your Name :\tC\n",
      "Enter your Bid Amount :\t30\n",
      "Do you want to enter another bid(yes/no)?Yes\n",
      "\u001b[H\u001b[2JEnter Your Name :\tZ\n",
      "Enter your Bid Amount :\t50\n",
      "Do you want to enter another bid(yes/no)?No\n",
      "Highest Bidder is Z with bidding amount 50\n"
     ]
    }
   ],
   "source": [
    "while bidding_open:\n",
    "    name = input(\"Enter Your Name :\\t\")\n",
    "    bid = int(input('Enter your Bid Amount :\\t'))\n",
    "    is_bidding_continue = input(\"Do you want to enter another bid(yes/no)?\")\n",
    "    biding[name] = bid\n",
    "    if is_bidding_continue in [\"no\",'No','NO']:\n",
    "        bidding_open = False\n",
    "        highest_bidding()\n",
    "    elif is_bidding_continue in [\"yes\",'Yes','YES']:\n",
    "        clear()"
   ]
  },
  {
   "cell_type": "code",
   "execution_count": null,
   "id": "differential-alexander",
   "metadata": {},
   "outputs": [],
   "source": []
  }
 ],
 "metadata": {
  "kernelspec": {
   "display_name": "Python 3",
   "language": "python",
   "name": "python3"
  },
  "language_info": {
   "codemirror_mode": {
    "name": "ipython",
    "version": 3
   },
   "file_extension": ".py",
   "mimetype": "text/x-python",
   "name": "python",
   "nbconvert_exporter": "python",
   "pygments_lexer": "ipython3",
   "version": "3.8.8"
  }
 },
 "nbformat": 4,
 "nbformat_minor": 5
}
