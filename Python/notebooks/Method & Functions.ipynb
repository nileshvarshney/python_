{
 "cells": [
  {
   "cell_type": "code",
   "execution_count": 21,
   "id": "moral-circle",
   "metadata": {},
   "outputs": [
    {
     "name": "stdout",
     "output_type": "stream",
     "text": [
      "False\n",
      "True\n"
     ]
    }
   ],
   "source": [
    "def check_even(number):\n",
    "    return number % 2 == 0\n",
    "\n",
    "print(check_even(21))\n",
    "print(check_even(20))"
   ]
  },
  {
   "cell_type": "code",
   "execution_count": 22,
   "id": "diagnostic-concern",
   "metadata": {},
   "outputs": [
    {
     "name": "stdout",
     "output_type": "stream",
     "text": [
      "True\n",
      "False\n"
     ]
    }
   ],
   "source": [
    "def check_even_list(mylist):\n",
    "    for num in mylist:\n",
    "        if num % 2 == 0:\n",
    "            return True\n",
    "        else:\n",
    "            pass\n",
    "    return False\n",
    "print(check_even_list([i for i in range(1,11,1)]))\n",
    "print(check_even_list([i for i in range(1,11,2)]))"
   ]
  },
  {
   "cell_type": "code",
   "execution_count": 23,
   "id": "strange-pendant",
   "metadata": {},
   "outputs": [
    {
     "name": "stdout",
     "output_type": "stream",
     "text": [
      "[2, 4, 6, 8, 10, 12, 14, 16, 18]\n",
      "[1, 3, 5, 7, 9, 11, 13, 15, 17, 19]\n"
     ]
    }
   ],
   "source": [
    "even_list = []\n",
    "odd_list = []\n",
    "def filter_even_odd(mylist): \n",
    "    for num in mylist:\n",
    "        if num % 2 == 0:\n",
    "            even_list.append(num)\n",
    "        else:\n",
    "            odd_list.append(num)\n",
    "\n",
    "filter_even_odd([i for i in range(1,20,1)])            \n",
    "print(even_list)\n",
    "print(odd_list)"
   ]
  },
  {
   "cell_type": "code",
   "execution_count": 24,
   "id": "graduate-alloy",
   "metadata": {},
   "outputs": [
    {
     "name": "stdout",
     "output_type": "stream",
     "text": [
      "('John', 40)\n"
     ]
    }
   ],
   "source": [
    "employee = [('jose',30),('John',40), ('Edwin',20)]\n",
    "\n",
    "def employee_of_month(emp):\n",
    "    hours = 0\n",
    "    employee_name =''\n",
    "    for name, hour in emp:\n",
    "        if hour > hours:\n",
    "            hours = hour\n",
    "            employee_name = name\n",
    "        else:\n",
    "            pass\n",
    "    return (employee_name,hours )\n",
    "\n",
    "print(employee_of_month(employee))"
   ]
  },
  {
   "cell_type": "code",
   "execution_count": 30,
   "id": "prescription-studio",
   "metadata": {},
   "outputs": [
    {
     "data": {
      "text/plain": [
       "60"
      ]
     },
     "execution_count": 30,
     "metadata": {},
     "output_type": "execute_result"
    }
   ],
   "source": [
    "def add_many(*args):\n",
    "    return sum(args)\n",
    "\n",
    "add_many(10,20,30)"
   ]
  },
  {
   "cell_type": "code",
   "execution_count": 37,
   "id": "meaning-transparency",
   "metadata": {},
   "outputs": [
    {
     "name": "stdout",
     "output_type": "stream",
     "text": [
      "Fruit of my choice Apple\n"
     ]
    }
   ],
   "source": [
    "def my_func(**kwargs):\n",
    "    if 'fruit' in kwargs:\n",
    "        print('Fruit of my choice {}'.format(kwargs['fruit']))\n",
    "    else:\n",
    "        print('I did not find any fruits')\n",
    "        \n",
    "my_func(fruit ='Apple', veggie = 'tomato')"
   ]
  },
  {
   "cell_type": "code",
   "execution_count": 38,
   "id": "happy-plate",
   "metadata": {},
   "outputs": [
    {
     "name": "stdout",
     "output_type": "stream",
     "text": [
      "I did not find any fruits\n"
     ]
    }
   ],
   "source": [
    "my_func(veggie = 'tomato')"
   ]
  },
  {
   "cell_type": "code",
   "execution_count": 40,
   "id": "fresh-plain",
   "metadata": {},
   "outputs": [
    {
     "name": "stdout",
     "output_type": "stream",
     "text": [
      "I like 10 eggs\n"
     ]
    }
   ],
   "source": [
    "def myfunc(*args, **kwargs):\n",
    "    print('I like {} {}'.format(args[0], kwargs['food']))\n",
    "    \n",
    "myfunc(10,20,30, fruit = 'Apple', food = 'eggs', drink='coke')"
   ]
  },
  {
   "cell_type": "code",
   "execution_count": 54,
   "id": "signed-moral",
   "metadata": {},
   "outputs": [
    {
     "name": "stdout",
     "output_type": "stream",
     "text": [
      "1\n",
      "4\n",
      "9\n",
      "16\n",
      "25\n",
      "[1, 4, 9, 16, 25]\n"
     ]
    }
   ],
   "source": [
    "# MAP\n",
    "my_list = [1,2,3,4,5]\n",
    "def square(num):\n",
    "    return num**2\n",
    "\n",
    "for item in map(square, my_list):\n",
    "    print(item)\n",
    "    \n",
    "print(list(map(square, my_list)))"
   ]
  },
  {
   "cell_type": "code",
   "execution_count": 58,
   "id": "brutal-crown",
   "metadata": {},
   "outputs": [
    {
     "data": {
      "text/plain": [
       "[2, 4]"
      ]
     },
     "execution_count": 58,
     "metadata": {},
     "output_type": "execute_result"
    }
   ],
   "source": [
    "# filter\n",
    "def even_odd(num):\n",
    "    return num % 2 == 0\n",
    "\n",
    "list(filter(even_odd, my_list))"
   ]
  },
  {
   "cell_type": "code",
   "execution_count": 65,
   "id": "every-damage",
   "metadata": {},
   "outputs": [
    {
     "data": {
      "text/plain": [
       "256"
      ]
     },
     "execution_count": 65,
     "metadata": {},
     "output_type": "execute_result"
    }
   ],
   "source": [
    "#lambda\n",
    "square = lambda num : num**2\n",
    "square(16)"
   ]
  },
  {
   "cell_type": "code",
   "execution_count": 67,
   "id": "cognitive-majority",
   "metadata": {},
   "outputs": [
    {
     "data": {
      "text/plain": [
       "[1, 4, 9, 16, 25]"
      ]
     },
     "execution_count": 67,
     "metadata": {},
     "output_type": "execute_result"
    }
   ],
   "source": [
    "list(map(lambda num:  num ** 2, my_list))"
   ]
  },
  {
   "cell_type": "code",
   "execution_count": 68,
   "id": "competitive-transmission",
   "metadata": {},
   "outputs": [
    {
     "data": {
      "text/plain": [
       "[2, 4]"
      ]
     },
     "execution_count": 68,
     "metadata": {},
     "output_type": "execute_result"
    }
   ],
   "source": [
    "list(filter(lambda num: num % 2 == 0, my_list))"
   ]
  },
  {
   "cell_type": "code",
   "execution_count": null,
   "id": "middle-tackle",
   "metadata": {},
   "outputs": [],
   "source": []
  }
 ],
 "metadata": {
  "kernelspec": {
   "display_name": "Python 3",
   "language": "python",
   "name": "python3"
  },
  "language_info": {
   "codemirror_mode": {
    "name": "ipython",
    "version": 3
   },
   "file_extension": ".py",
   "mimetype": "text/x-python",
   "name": "python",
   "nbconvert_exporter": "python",
   "pygments_lexer": "ipython3",
   "version": "3.8.8"
  }
 },
 "nbformat": 4,
 "nbformat_minor": 5
}
