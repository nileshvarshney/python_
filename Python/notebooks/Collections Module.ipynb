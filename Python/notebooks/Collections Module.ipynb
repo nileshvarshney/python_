{
 "cells": [
  {
   "cell_type": "code",
   "execution_count": 8,
   "id": "ordinary-reply",
   "metadata": {},
   "outputs": [],
   "source": [
    "from collections import Counter"
   ]
  },
  {
   "cell_type": "code",
   "execution_count": 12,
   "id": "missing-money",
   "metadata": {},
   "outputs": [
    {
     "data": {
      "text/plain": [
       "Counter({'a': 2, 10: 3})"
      ]
     },
     "execution_count": 12,
     "metadata": {},
     "output_type": "execute_result"
    }
   ],
   "source": [
    "Counter(['a','a',10,10,10])"
   ]
  },
  {
   "cell_type": "code",
   "execution_count": 25,
   "id": "driven-marshall",
   "metadata": {},
   "outputs": [
    {
     "data": {
      "text/plain": [
       "[('the', 2), ('and', 2), ('learn', 1)]"
      ]
     },
     "execution_count": 25,
     "metadata": {},
     "output_type": "execute_result"
    }
   ],
   "source": [
    "sentence = \"\"\"Learn Python like a Professional \n",
    "Start from the basics and go all the way to creating your own applications and games\"\"\"\n",
    "c = Counter(sentence.lower().split())\n",
    "c.most_common(3)"
   ]
  },
  {
   "cell_type": "code",
   "execution_count": 17,
   "id": "endless-tracy",
   "metadata": {},
   "outputs": [
    {
     "data": {
      "text/plain": [
       "dict_values([1, 1, 1, 1, 1, 1, 1, 2, 1, 2, 1, 1, 1, 1, 1, 1, 1, 1, 1])"
      ]
     },
     "execution_count": 17,
     "metadata": {},
     "output_type": "execute_result"
    }
   ],
   "source": [
    "c.values()"
   ]
  },
  {
   "cell_type": "code",
   "execution_count": 21,
   "id": "fabulous-administrator",
   "metadata": {},
   "outputs": [
    {
     "data": {
      "text/plain": [
       "['learn',\n",
       " 'python',\n",
       " 'like',\n",
       " 'a',\n",
       " 'professional',\n",
       " 'start',\n",
       " 'from',\n",
       " 'the',\n",
       " 'basics',\n",
       " 'and',\n",
       " 'go',\n",
       " 'all',\n",
       " 'way',\n",
       " 'to',\n",
       " 'creating',\n",
       " 'your',\n",
       " 'own',\n",
       " 'applications',\n",
       " 'games']"
      ]
     },
     "execution_count": 21,
     "metadata": {},
     "output_type": "execute_result"
    }
   ],
   "source": [
    "list(c.keys())"
   ]
  },
  {
   "cell_type": "code",
   "execution_count": 23,
   "id": "healthy-italy",
   "metadata": {},
   "outputs": [
    {
     "data": {
      "text/plain": [
       "<bound method Counter.elements of Counter({'the': 2, 'and': 2, 'learn': 1, 'python': 1, 'like': 1, 'a': 1, 'professional': 1, 'start': 1, 'from': 1, 'basics': 1, 'go': 1, 'all': 1, 'way': 1, 'to': 1, 'creating': 1, 'your': 1, 'own': 1, 'applications': 1, 'games': 1})>"
      ]
     },
     "execution_count": 23,
     "metadata": {},
     "output_type": "execute_result"
    }
   ],
   "source": [
    "c."
   ]
  },
  {
   "cell_type": "code",
   "execution_count": 26,
   "id": "short-front",
   "metadata": {},
   "outputs": [],
   "source": [
    "from collections import defaultdict"
   ]
  },
  {
   "cell_type": "code",
   "execution_count": null,
   "id": "administrative-portfolio",
   "metadata": {},
   "outputs": [],
   "source": []
  }
 ],
 "metadata": {
  "kernelspec": {
   "display_name": "Python 3",
   "language": "python",
   "name": "python3"
  },
  "language_info": {
   "codemirror_mode": {
    "name": "ipython",
    "version": 3
   },
   "file_extension": ".py",
   "mimetype": "text/x-python",
   "name": "python",
   "nbconvert_exporter": "python",
   "pygments_lexer": "ipython3",
   "version": "3.8.8"
  }
 },
 "nbformat": 4,
 "nbformat_minor": 5
}
