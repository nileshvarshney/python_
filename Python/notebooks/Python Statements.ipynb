{
 "cells": [
  {
   "cell_type": "code",
   "execution_count": 1,
   "id": "executed-quilt",
   "metadata": {},
   "outputs": [
    {
     "name": "stdout",
     "output_type": "stream",
     "text": [
      "Its True!!\n"
     ]
    }
   ],
   "source": [
    "if True:\n",
    "    print('Its True!!')"
   ]
  },
  {
   "cell_type": "code",
   "execution_count": 3,
   "id": "norman-sigma",
   "metadata": {},
   "outputs": [
    {
     "name": "stdout",
     "output_type": "stream",
     "text": [
      "Result is true!\n"
     ]
    }
   ],
   "source": [
    "result = 3 > 2\n",
    "if result:\n",
    "    print('Result is true!')"
   ]
  },
  {
   "cell_type": "code",
   "execution_count": 11,
   "id": "superior-capability",
   "metadata": {},
   "outputs": [
    {
     "name": "stdout",
     "output_type": "stream",
     "text": [
      "Odd Number \t1\n",
      "Even Number \t2\n",
      "Odd Number \t3\n",
      "Even Number \t4\n",
      "Sum of all the numbers is 10\n"
     ]
    }
   ],
   "source": [
    "my_iterate = [1,2,3,4]\n",
    "total = 0\n",
    "for num in my_iterate:\n",
    "    if num % 2 == 0:\n",
    "        print(f'Even Number \\t{num}')\n",
    "    else:\n",
    "        print(f'Odd Number \\t{num}') \n",
    "   \n",
    "    total = total + num\n",
    "print(f'Sum of all the numbers is {total}')"
   ]
  },
  {
   "cell_type": "code",
   "execution_count": 15,
   "id": "assured-spider",
   "metadata": {},
   "outputs": [
    {
     "name": "stdout",
     "output_type": "stream",
     "text": [
      "H\n",
      "e\n",
      "l\n",
      "l\n",
      "o\n"
     ]
    }
   ],
   "source": [
    "# loop through string\n",
    "for char in 'Hello':\n",
    "    print(f'{char}')"
   ]
  },
  {
   "cell_type": "code",
   "execution_count": 17,
   "id": "beginning-johnson",
   "metadata": {},
   "outputs": [
    {
     "name": "stdout",
     "output_type": "stream",
     "text": [
      "1\n",
      "2\n",
      "3\n"
     ]
    }
   ],
   "source": [
    "# loop therough tupple\n",
    "tup = (1,2,3)\n",
    "for t in tup:\n",
    "    print(f'{t}')"
   ]
  },
  {
   "cell_type": "code",
   "execution_count": 21,
   "id": "material-jason",
   "metadata": {},
   "outputs": [
    {
     "name": "stdout",
     "output_type": "stream",
     "text": [
      "1\t2\n",
      "3\t4\n",
      "5\t6\n",
      "7\t8\n"
     ]
    }
   ],
   "source": [
    "my_tup = [(1,2),(3,4),(5,6),(7,8)]\n",
    "for a, b in my_tup:\n",
    "    print(f'{a}\\t{b}')"
   ]
  },
  {
   "cell_type": "code",
   "execution_count": 22,
   "id": "acoustic-clock",
   "metadata": {},
   "outputs": [
    {
     "name": "stdout",
     "output_type": "stream",
     "text": [
      "k1\n",
      "k2\n",
      "k3\n"
     ]
    }
   ],
   "source": [
    "my_dict = {\"k1\":1,\"k2\":2,\"k3\":3}\n",
    "for item in my_dict:\n",
    "    print(item)"
   ]
  },
  {
   "cell_type": "code",
   "execution_count": 24,
   "id": "located-numbers",
   "metadata": {},
   "outputs": [
    {
     "name": "stdout",
     "output_type": "stream",
     "text": [
      "k1\t1\n",
      "k2\t2\n",
      "k3\t3\n"
     ]
    }
   ],
   "source": [
    "for k,v in my_dict.items():\n",
    "    print(f'{k}\\t{v}')"
   ]
  },
  {
   "cell_type": "code",
   "execution_count": 25,
   "id": "flexible-posting",
   "metadata": {},
   "outputs": [
    {
     "name": "stdout",
     "output_type": "stream",
     "text": [
      "1\n",
      "2\n",
      "3\n"
     ]
    }
   ],
   "source": [
    "for v in my_dict.values():\n",
    "    print(v)"
   ]
  },
  {
   "cell_type": "code",
   "execution_count": 31,
   "id": "inclusive-mortality",
   "metadata": {},
   "outputs": [
    {
     "name": "stdout",
     "output_type": "stream",
     "text": [
      "Current Value of x is 0\n",
      "Current Value of x is 1\n",
      "Current Value of x is 2\n",
      "Current Value of x is 3\n",
      "Current Value of x is 4\n",
      "X VALUE IS MORE THAN 4\n"
     ]
    }
   ],
   "source": [
    "# While Loop\n",
    "x = 0\n",
    "while x < 5:\n",
    "    print(f'Current Value of x is {x}')\n",
    "    x = x + 1\n",
    "else:\n",
    "    print('X VALUE IS MORE THAN 4')\n",
    "    "
   ]
  },
  {
   "cell_type": "code",
   "execution_count": 32,
   "id": "municipal-proportion",
   "metadata": {},
   "outputs": [
    {
     "name": "stdout",
     "output_type": "stream",
     "text": [
      "Letter at index 0 is H\n",
      "Letter at index 1 is e\n",
      "Letter at index 2 is l\n",
      "Letter at index 3 is l\n",
      "Letter at index 4 is o\n"
     ]
    }
   ],
   "source": [
    "# enumerate\n",
    "word = 'Hello'\n",
    "for index, letter in enumerate(word):\n",
    "    print('Letter at index {} is {}'.format(index, letter))"
   ]
  },
  {
   "cell_type": "code",
   "execution_count": 34,
   "id": "abstract-radar",
   "metadata": {},
   "outputs": [
    {
     "name": "stdout",
     "output_type": "stream",
     "text": [
      "(1, 'a')\n",
      "(2, 'b')\n",
      "(3, 'c')\n"
     ]
    }
   ],
   "source": [
    "number = [1,2,3]\n",
    "letter = ['a','b','c']\n",
    "for item in zip(number,letter):\n",
    "    print(item)"
   ]
  },
  {
   "cell_type": "code",
   "execution_count": 43,
   "id": "contained-stake",
   "metadata": {},
   "outputs": [
    {
     "name": "stdout",
     "output_type": "stream",
     "text": [
      "[3, 6, 5, 2, 4, 1, 78]\n"
     ]
    }
   ],
   "source": [
    "from random import shuffle\n",
    "mylist = [1,2,3,4,5,6,78]\n",
    "shuffle(mylist)\n",
    "print(mylist)"
   ]
  },
  {
   "cell_type": "code",
   "execution_count": 46,
   "id": "hollow-tampa",
   "metadata": {},
   "outputs": [
    {
     "data": {
      "text/plain": [
       "48"
      ]
     },
     "execution_count": 46,
     "metadata": {},
     "output_type": "execute_result"
    }
   ],
   "source": [
    "from random import randint\n",
    "randint(0,100)"
   ]
  },
  {
   "cell_type": "code",
   "execution_count": 51,
   "id": "level-folder",
   "metadata": {},
   "outputs": [
    {
     "name": "stdout",
     "output_type": "stream",
     "text": [
      "Enter number here20\n",
      "<class 'str'>\n",
      "20.0\n"
     ]
    }
   ],
   "source": [
    "choice = input('Enter number here')\n",
    "print(type(choice))\n",
    "print(float(choice))\n"
   ]
  },
  {
   "cell_type": "code",
   "execution_count": 53,
   "id": "stainless-syracuse",
   "metadata": {},
   "outputs": [
    {
     "name": "stdout",
     "output_type": "stream",
     "text": [
      "['m', 'y', 's', 't', 'r', 'i', 'n', 'g']\n"
     ]
    }
   ],
   "source": [
    "# List comprehension\n",
    "mylist = []\n",
    "for char in 'mystring':\n",
    "    mylist.append(char)\n",
    "print(mylist)"
   ]
  },
  {
   "cell_type": "code",
   "execution_count": 54,
   "id": "italic-charity",
   "metadata": {},
   "outputs": [
    {
     "data": {
      "text/plain": [
       "['m', 'y', 's', 't', 'r', 'i', 'n', 'g']"
      ]
     },
     "execution_count": 54,
     "metadata": {},
     "output_type": "execute_result"
    }
   ],
   "source": [
    "[letter for letter in 'mystring']"
   ]
  },
  {
   "cell_type": "code",
   "execution_count": 55,
   "id": "adjustable-individual",
   "metadata": {},
   "outputs": [
    {
     "data": {
      "text/plain": [
       "[1, 2, 3, 4, 5, 6, 7, 8, 9]"
      ]
     },
     "execution_count": 55,
     "metadata": {},
     "output_type": "execute_result"
    }
   ],
   "source": [
    "[num for num in range(1,10)]"
   ]
  },
  {
   "cell_type": "code",
   "execution_count": 60,
   "id": "following-oxygen",
   "metadata": {},
   "outputs": [
    {
     "data": {
      "text/plain": [
       "[0, 4, 16, 36, 64]"
      ]
     },
     "execution_count": 60,
     "metadata": {},
     "output_type": "execute_result"
    }
   ],
   "source": [
    "[num**2 for num in range(0,10) if num%2 ==0]"
   ]
  },
  {
   "cell_type": "code",
   "execution_count": 63,
   "id": "caroline-tackle",
   "metadata": {},
   "outputs": [
    {
     "data": {
      "text/plain": [
       "[32.0, 50.0, 68.0, 86.0, 104.0, 122.0, 140.0, 158.0, 176.0, 194.0]"
      ]
     },
     "execution_count": 63,
     "metadata": {},
     "output_type": "execute_result"
    }
   ],
   "source": [
    "temp_f = [c * 9/5 + 32 for c in range(0,100,10)]\n",
    "temp_f"
   ]
  },
  {
   "cell_type": "code",
   "execution_count": 65,
   "id": "overall-sunset",
   "metadata": {},
   "outputs": [
    {
     "data": {
      "text/plain": [
       "['odd', 2, 'odd', 4, 'odd', 6, 'odd', 8, 'odd', 10]"
      ]
     },
     "execution_count": 65,
     "metadata": {},
     "output_type": "execute_result"
    }
   ],
   "source": [
    "[x if x%2 ==0 else 'odd' for x in range(1,11)]"
   ]
  },
  {
   "cell_type": "code",
   "execution_count": 69,
   "id": "multiple-square",
   "metadata": {},
   "outputs": [
    {
     "data": {
      "text/plain": [
       "[100, 200, 300, 200, 400, 600]"
      ]
     },
     "execution_count": 69,
     "metadata": {},
     "output_type": "execute_result"
    }
   ],
   "source": [
    "[x * y for x in range(1,3) for y in range(100,400,100)]"
   ]
  },
  {
   "cell_type": "code",
   "execution_count": 73,
   "id": "trying-franchise",
   "metadata": {},
   "outputs": [
    {
     "data": {
      "text/plain": [
       "['Learn',\n",
       " 'Python',\n",
       " 'like',\n",
       " 'a',\n",
       " 'Professional',\n",
       " 'Start',\n",
       " 'from',\n",
       " 'the',\n",
       " 'basics',\n",
       " 'and',\n",
       " 'go',\n",
       " 'all',\n",
       " 'the',\n",
       " 'way',\n",
       " 'to',\n",
       " 'creating',\n",
       " 'your',\n",
       " 'own',\n",
       " 'applications',\n",
       " 'and',\n",
       " 'games']"
      ]
     },
     "execution_count": 73,
     "metadata": {},
     "output_type": "execute_result"
    }
   ],
   "source": [
    "st = \"\"\"Learn Python like a Professional Start from the basics \n",
    "    and go all the way to creating your own applications and games\"\"\"\n",
    "[str for str in st.split()]\n"
   ]
  },
  {
   "cell_type": "code",
   "execution_count": null,
   "id": "several-indicator",
   "metadata": {},
   "outputs": [],
   "source": []
  }
 ],
 "metadata": {
  "kernelspec": {
   "display_name": "Python 3",
   "language": "python",
   "name": "python3"
  },
  "language_info": {
   "codemirror_mode": {
    "name": "ipython",
    "version": 3
   },
   "file_extension": ".py",
   "mimetype": "text/x-python",
   "name": "python",
   "nbconvert_exporter": "python",
   "pygments_lexer": "ipython3",
   "version": "3.8.8"
  }
 },
 "nbformat": 4,
 "nbformat_minor": 5
}
